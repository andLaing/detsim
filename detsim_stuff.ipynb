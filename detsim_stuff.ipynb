version https://git-lfs.github.com/spec/v1
oid sha256:156c3afd6411efd728f7284aef1fd0d6fa68ef6e91c0e76a4bc0a37ef50ab3b3
size 6762
