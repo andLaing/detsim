{
 "cells": [
  {
   "cell_type": "code",
   "execution_count": 2,
   "metadata": {},
   "outputs": [],
   "source": [
    "%matplotlib inline\n",
    "\n",
    "import time\n",
    "\n",
    "import numpy as np\n",
    "import tables as tb\n",
    "import matplotlib.pyplot as plt\n",
    "\n",
    "from detsim.io.hdf5_io import load_sensors\n",
    "from detsim.position_signal import bin_minmax\n",
    "from detsim.position_signal import get_no_sensors\n",
    "from detsim.io.hdf5_io import get_sensor_binning\n",
    "from detsim.io.hdf5_io import buffer_writer\n",
    "\n",
    "from invisible_cities.reco                      import     tbl_functions as tbl\n",
    "from invisible_cities.io.mcinfo_io import load_mcsensor_response\n",
    "from invisible_cities.reco.peak_functions import indices_and_wf_above_threshold\n",
    "from invisible_cities.reco.peak_functions import                 split_in_peaks\n",
    "from invisible_cities.detsim.buffer_functions import calculate_binning\n",
    "from invisible_cities.detsim.buffer_functions import trigger_finder\n",
    "from invisible_cities.detsim.buffer_functions import calculate_buffers\n",
    "from invisible_cities.core.system_of_units_c  import units\n",
    "from invisible_cities.core    .configure         import         configure\n",
    "\n",
    "#from detsim.position_signal import position_signal\n",
    "from detsim.position_signal import position_signal\n",
    "\n",
    "from functools import wraps\n",
    "\n",
    "#sens_wf = load_mcsensor_response('invisible_cities/database/test_data/Kr83_full_nexus_v5_03_01_ACTIVE_7bar_1evt.sim.h5')"
   ]
  },
  {
   "cell_type": "code",
   "execution_count": 4,
   "metadata": {},
   "outputs": [
    {
     "name": "stdout",
     "output_type": "stream",
     "text": [
      "1min 47s ± 6.91 s per loop (mean ± std. dev. of 7 runs, 1 loop each)\n"
     ]
    }
   ],
   "source": [
    "conf = configure(['position_signal', 'detsim/config/test_config.conf']).as_namespace\n",
    "%timeit position_signal(conf)"
   ]
  },
  {
   "cell_type": "code",
   "execution_count": 5,
   "metadata": {},
   "outputs": [
    {
     "name": "stdout",
     "output_type": "stream",
     "text": [
      "5 µs ± 319 ns per loop (mean ± std. dev. of 7 runs, 100000 loops each)\n"
     ]
    }
   ],
   "source": [
    "raw = np.array([2,3,5,1,54,78,54,24,5,6,7])\n",
    "%timeit raw / sum(raw)"
   ]
  },
  {
   "cell_type": "code",
   "execution_count": 7,
   "metadata": {},
   "outputs": [
    {
     "name": "stdout",
     "output_type": "stream",
     "text": [
      "6.17 µs ± 404 ns per loop (mean ± std. dev. of 7 runs, 100000 loops each)\n"
     ]
    }
   ],
   "source": [
    "%timeit raw / raw.sum()"
   ]
  },
  {
   "cell_type": "code",
   "execution_count": null,
   "metadata": {
    "scrolled": true
   },
   "outputs": [],
   "source": [
    "dicts = [val for val in load_sensors(['invisible_cities/database/test_data/Kr83_full_nexus_v5_03_01_ACTIVE_7bar_1evt.sim.h5'], 'new', 6400)]\n",
    "pmt_wid, sipm_wid = get_sensor_binning('invisible_cities/database/test_data/Kr83_full_nexus_v5_03_01_ACTIVE_7bar_1evt.sim.h5', 'new', 6400)"
   ]
  },
  {
   "cell_type": "code",
   "execution_count": null,
   "metadata": {},
   "outputs": [],
   "source": [
    "#pmt_binner  = calculate_binning(pmts [0].bin_width, 1e6)\n",
    "#sipm_binner = calculate_binning(sipms[0].bin_width, 1e6)\n",
    "binner = calculate_binning(1e6)"
   ]
  },
  {
   "cell_type": "code",
   "execution_count": null,
   "metadata": {},
   "outputs": [],
   "source": [
    "pmt_bins, pmt_q = binner(dicts[0]['pmt_wfs'])\n",
    "min_bin, max_bin = bin_minmax(pmt_bins)\n",
    "#sipm_bins, sipm_q = binner(sipms, pmt_bins[0], pmt_bins[-1] + pmts[0].bin_width)\n",
    "plt.plot(pmt_bins[:-1], np.sum(pmt_q, axis=0))\n",
    "print(min_bin, max_bin)\n",
    "sipm_bins, sipm_q = binner(dicts[0]['sipm_wfs'], min_bin, max_bin)\n",
    "plt.plot(sipm_bins[:-1], np.sum(sipm_q, axis=0))\n",
    "#pmt_bins\n",
    "#max_bin = np.ceil((pmt_bins[-1] + pmts[0].bin_width) / sipms[0].bin_width) * sipms[0].bin_width\n",
    "#np.arange(pmt_bins[0]"
   ]
  },
  {
   "cell_type": "code",
   "execution_count": null,
   "metadata": {},
   "outputs": [],
   "source": [
    "trg_finder = trigger_finder(800, pmt_wid, 3)"
   ]
  },
  {
   "cell_type": "code",
   "execution_count": null,
   "metadata": {},
   "outputs": [],
   "source": [
    "trgs = trg_finder(np.sum(pmt_q, axis=0))"
   ]
  },
  {
   "cell_type": "code",
   "execution_count": null,
   "metadata": {},
   "outputs": [],
   "source": [
    "trgs"
   ]
  },
  {
   "cell_type": "code",
   "execution_count": null,
   "metadata": {},
   "outputs": [],
   "source": [
    "buffer_mus  = 800\n",
    "pretrig_mus = 100\n",
    "buffers = calculate_buffers(buffer_mus, pretrig_mus)\n",
    "all_buffers = buffers(trgs, pmt_bins, pmt_q, sipm_bins, sipm_q)\n",
    "plt.plot(np.arange(0, buffer_mus * units.mus, pmt_wid), np.sum(all_buffers[0][0], axis=0))\n",
    "plt.plot(np.arange(0, buffer_mus * units.mus, sipm_wid), np.sum(all_buffers[0][1], axis=0))\n",
    "plt.xlim(158000, 170000)\n",
    "print(all_buffers[0][0].shape, all_buffers[0][1].shape)\n",
    "#plt.ylim(-1, 10)"
   ]
  },
  {
   "cell_type": "code",
   "execution_count": null,
   "metadata": {},
   "outputs": [],
   "source": [
    "npmt, nsipm        = get_no_sensors('new', 6400)\n",
    "nsamp_pmt          = int(buffer_mus * units.mus /  pmt_wid)\n",
    "nsamp_sipm         = int(buffer_mus * units.mus / sipm_wid)\n",
    "print(type(npmt), type(nsipm), type(nsamp_pmt), type(nsamp_sipm))"
   ]
  },
  {
   "cell_type": "code",
   "execution_count": null,
   "metadata": {},
   "outputs": [],
   "source": [
    "with tb.open_file('muchTest.h5', 'w', filters = tbl.filters('ZLIB4')) as h5out:\n",
    "    buffer_writer_ = buffer_writer(h5out, n_sens_eng = npmt, n_sens_trk = nsipm, length_eng = nsamp_pmt, length_trk = nsamp_sipm)\n",
    "    \n",
    "    buffer_writer_(dicts[0]['evt'], dicts[0]['pmt_ord'], dicts[0]['sipm_ord'], all_buffers)"
   ]
  },
  {
   "cell_type": "code",
   "execution_count": null,
   "metadata": {},
   "outputs": [],
   "source": []
  },
  {
   "cell_type": "code",
   "execution_count": null,
   "metadata": {},
   "outputs": [],
   "source": []
  }
 ],
 "metadata": {
  "kernelspec": {
   "display_name": "Python 3",
   "language": "python",
   "name": "python3"
  },
  "language_info": {
   "codemirror_mode": {
    "name": "ipython",
    "version": 3
   },
   "file_extension": ".py",
   "mimetype": "text/x-python",
   "name": "python",
   "nbconvert_exporter": "python",
   "pygments_lexer": "ipython3",
   "version": "3.7.1"
  }
 },
 "nbformat": 4,
 "nbformat_minor": 2
}
